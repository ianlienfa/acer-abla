{
  "cells": [
    {
      "cell_type": "code",
      "execution_count": 87,
      "metadata": {
        "collapsed": false
      },
      "outputs": [],
      "source": [
        "import matplotlib.pyplot as plt\n",
        "import numpy as np"
      ]
    },
    {
      "cell_type": "markdown",
      "metadata": {},
      "source": [
        "### Set up path to load in"
      ]
    },
    {
      "cell_type": "code",
      "execution_count": 88,
      "metadata": {},
      "outputs": [],
      "source": [
        "dir_path=\"./results/continue/\"\n",
        "path_exp = \"continue_4_\"\n",
        "path_ctrl = \"continue_truncation_para=1_4_\"\n",
        "save_fig = \"continue_truncation_para=1.jpg\"\n",
        "worker_num = 4\n",
        "SUFFIX = \".txt\"\n",
        "FIG_PATH = \"./report/images/continuous/\"\n",
        "SMOOTH_FACTOR = 4  # smooth the curve"
      ]
    },
    {
      "cell_type": "markdown",
      "metadata": {},
      "source": [
        "### Reward load"
      ]
    },
    {
      "cell_type": "code",
      "execution_count": 89,
      "metadata": {},
      "outputs": [],
      "source": [
        "exp_reward = []\n",
        "ctrl_reward = []\n",
        "\n",
        "def read_reward(dir_path, path, reward_avg, worknum=None):\n",
        "    if worknum == None:\n",
        "        reward_avg = read_reward_discrete(dir_path, path, reward_avg)\n",
        "        return reward_avg\n",
        "    for i in range(1, worknum+1):        \n",
        "        path_read = dir_path + path + str(i) + SUFFIX    \n",
        "        f = open(path_read, \"r\")\n",
        "        rewards = list((f.read().split(\" \")))\n",
        "        rewards = rewards[:-1]\n",
        "        rewards = [float(i) for i in rewards]\n",
        "        if reward_avg == []:\n",
        "            reward_avg = rewards\n",
        "        else:\n",
        "            reward_avg = [ (a+b) for (a, b) in zip(reward_avg, rewards)]        \n",
        "    reward_avg = [i/worknum for i in reward_avg]    \n",
        "    return reward_avg\n",
        "\n",
        "def read_reward_discrete(dir_path, path, reward_avg):\n",
        "    path_read = dir_path + path + SUFFIX    \n",
        "    f = open(path_read, \"r\")\n",
        "    rewards = list((f.read().split(\" \")))\n",
        "    rewards = rewards[:-1]\n",
        "    rewards = [float(i) for i in rewards]\n",
        "    reward_avg = rewards    \n",
        "    return reward_avg\n",
        "\n",
        "\n",
        "exp_reward = read_reward(dir_path, path_exp, exp_reward, worker_num)\n",
        "ctrl_reward = read_reward(dir_path, path_ctrl, ctrl_reward, worker_num)"
      ]
    },
    {
      "cell_type": "code",
      "execution_count": 90,
      "metadata": {},
      "outputs": [],
      "source": [
        "def smooth(episode, reward, smooth_factor):\n",
        "    splitted_episode = []\n",
        "    smoothed_reward = []\n",
        "    smoothed_reward_len = len(episode) // smooth_factor if len(episode) % smooth_factor == 0 else len(episode) // smooth_factor + 1;\n",
        "    for i in range(smoothed_reward_len):\n",
        "        current_episode = i * smooth_factor\n",
        "        splitted_episode.append(episode[current_episode])\n",
        "        if i == smoothed_reward_len - 1:\n",
        "            smoothed_reward.append(sum(reward[current_episode:]) / len(reward[current_episode:]))\n",
        "        else:\n",
        "            smoothed_reward.append(sum(reward[current_episode:current_episode+smooth_factor]) / smooth_factor)\n",
        "    return splitted_episode, smoothed_reward"
      ]
    },
    {
      "cell_type": "code",
      "execution_count": 91,
      "metadata": {
        "collapsed": false
      },
      "outputs": [
        {
          "name": "stdout",
          "output_type": "stream",
          "text": [
            "Warning: exp_reward and ctrl_reward have different length, truncating...\n"
          ]
        },
        {
          "data": {
            "image/png": "[encoded data removed]",
            "text/plain": [
              "<Figure size 360x360 with 1 Axes>"
            ]
          },
          "metadata": {
            "needs_background": "light"
          },
          "output_type": "display_data"
        }
      ],
      "source": [
        "plt.style.use('_mpl-gallery')\n",
        "\n",
        "# make data\n",
        "if len(exp_reward) != len(ctrl_reward):\n",
        "       print(\"Warning: exp_reward and ctrl_reward have different length, truncating...\")\n",
        "       length = min(len(exp_reward), len(ctrl_reward))\n",
        "       exp_reward = exp_reward[:length]\n",
        "       ctrl_reward = ctrl_reward[:length]\n",
        "episodes = len(exp_reward)\n",
        "x = np.linspace(1, episodes, episodes)\n",
        "exp_x, ctrl_x = x, x\n",
        "\n",
        "# smooth if needed\n",
        "exp_x, exp_reward = smooth(x, exp_reward, SMOOTH_FACTOR)\n",
        "ctrl_x, ctrl_reward = smooth(x, ctrl_reward, SMOOTH_FACTOR)\n",
        "\n",
        "# plot\n",
        "fig, ax = plt.subplots()\n",
        "fig.set_figheight(5)\n",
        "fig.set_figwidth(5)\n",
        "\n",
        "ax.set_xlabel('Episodes')\n",
        "ax.set_ylabel('Reward')\n",
        "ax.plot(exp_x, exp_reward, label=path_exp)\n",
        "ax.plot(ctrl_x, ctrl_reward, label=path_ctrl)\n",
        "ax.legend()\n",
        "\n",
        "# ax.set(xlim=(0, 8), xticks=np.arange(1, 8),\n",
        "#        ylim=(0, 8), yticks=np.arange(1, 8))\n",
        "\n",
        "plt.show()\n",
        "fig.savefig(FIG_PATH + save_fig)"
      ]
    },
    {
      "cell_type": "code",
      "execution_count": null,
      "metadata": {},
      "outputs": [],
      "source": []
    }
  ],
  "metadata": {
    "kernelspec": {
      "display_name": "Python 3",
      "language": "python",
      "name": "python3"
    },
    "language_info": {
      "codemirror_mode": {
        "name": "ipython",
        "version": 3
      },
      "file_extension": ".py",
      "mimetype": "text/x-python",
      "name": "python",
      "nbconvert_exporter": "python",
      "pygments_lexer": "ipython3",
      "version": "3.9.10"
    }
  },
  "nbformat": 4,
  "nbformat_minor": 0
}
